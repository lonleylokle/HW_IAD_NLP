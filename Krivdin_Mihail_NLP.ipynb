{
  "nbformat": 4,
  "nbformat_minor": 0,
  "metadata": {
    "colab": {
      "name": "Untitled1.ipynb",
      "provenance": [],
      "collapsed_sections": [
        "_tCnOzuzwgtH",
        "WtXj6aA9wsgl",
        "nOtb9OxicKuz"
      ]
    },
    "kernelspec": {
      "name": "python3",
      "display_name": "Python 3"
    },
    "language_info": {
      "name": "python"
    }
  },
  "cells": [
    {
      "cell_type": "markdown",
      "source": [
        "# Лаба НЛП"
      ],
      "metadata": {
        "id": "Gxrjjqrkwb_9"
      }
    },
    {
      "cell_type": "markdown",
      "source": [
        "## Обработка данных"
      ],
      "metadata": {
        "id": "_tCnOzuzwgtH"
      }
    },
    {
      "cell_type": "code",
      "source": [
        "import numpy as np\n",
        "import pandas as pd\n",
        "import matplotlib.pyplot as plt\n",
        "import seaborn as sns\n",
        "import os\n",
        "import scipy as sp\n",
        "import string\n",
        "import warnings"
      ],
      "metadata": {
        "id": "NiOwUoCBMNr0"
      },
      "execution_count": 134,
      "outputs": []
    },
    {
      "cell_type": "code",
      "source": [
        "from google.colab import drive\n",
        "drive.mount('/content/drive')"
      ],
      "metadata": {
        "colab": {
          "base_uri": "https://localhost:8080/"
        },
        "id": "b6Qin-0gJo1L",
        "outputId": "ea73f46b-5c8a-4e18-fa2f-ff8fa08e8899"
      },
      "execution_count": 135,
      "outputs": [
        {
          "output_type": "stream",
          "name": "stdout",
          "text": [
            "Drive already mounted at /content/drive; to attempt to forcibly remount, call drive.mount(\"/content/drive\", force_remount=True).\n"
          ]
        }
      ]
    },
    {
      "cell_type": "code",
      "execution_count": 136,
      "metadata": {
        "id": "0bnZI7b6qFpF"
      },
      "outputs": [],
      "source": [
        "data = pd.read_csv('/content/drive/MyDrive/DataSets/spam.csv', encoding='latin-1')"
      ]
    },
    {
      "cell_type": "code",
      "source": [
        "data.head()"
      ],
      "metadata": {
        "colab": {
          "base_uri": "https://localhost:8080/",
          "height": 0
        },
        "id": "zUQ-QOTlMaLV",
        "outputId": "87594d19-a608-4959-8dcb-488147ad9e53"
      },
      "execution_count": 137,
      "outputs": [
        {
          "output_type": "execute_result",
          "data": {
            "text/html": [
              "<div>\n",
              "<style scoped>\n",
              "    .dataframe tbody tr th:only-of-type {\n",
              "        vertical-align: middle;\n",
              "    }\n",
              "\n",
              "    .dataframe tbody tr th {\n",
              "        vertical-align: top;\n",
              "    }\n",
              "\n",
              "    .dataframe thead th {\n",
              "        text-align: right;\n",
              "    }\n",
              "</style>\n",
              "<table border=\"1\" class=\"dataframe\">\n",
              "  <thead>\n",
              "    <tr style=\"text-align: right;\">\n",
              "      <th></th>\n",
              "      <th>v1</th>\n",
              "      <th>v2</th>\n",
              "      <th>Unnamed: 2</th>\n",
              "      <th>Unnamed: 3</th>\n",
              "      <th>Unnamed: 4</th>\n",
              "    </tr>\n",
              "  </thead>\n",
              "  <tbody>\n",
              "    <tr>\n",
              "      <th>0</th>\n",
              "      <td>ham</td>\n",
              "      <td>Go until jurong point, crazy.. Available only ...</td>\n",
              "      <td>NaN</td>\n",
              "      <td>NaN</td>\n",
              "      <td>NaN</td>\n",
              "    </tr>\n",
              "    <tr>\n",
              "      <th>1</th>\n",
              "      <td>ham</td>\n",
              "      <td>Ok lar... Joking wif u oni...</td>\n",
              "      <td>NaN</td>\n",
              "      <td>NaN</td>\n",
              "      <td>NaN</td>\n",
              "    </tr>\n",
              "    <tr>\n",
              "      <th>2</th>\n",
              "      <td>spam</td>\n",
              "      <td>Free entry in 2 a wkly comp to win FA Cup fina...</td>\n",
              "      <td>NaN</td>\n",
              "      <td>NaN</td>\n",
              "      <td>NaN</td>\n",
              "    </tr>\n",
              "    <tr>\n",
              "      <th>3</th>\n",
              "      <td>ham</td>\n",
              "      <td>U dun say so early hor... U c already then say...</td>\n",
              "      <td>NaN</td>\n",
              "      <td>NaN</td>\n",
              "      <td>NaN</td>\n",
              "    </tr>\n",
              "    <tr>\n",
              "      <th>4</th>\n",
              "      <td>ham</td>\n",
              "      <td>Nah I don't think he goes to usf, he lives aro...</td>\n",
              "      <td>NaN</td>\n",
              "      <td>NaN</td>\n",
              "      <td>NaN</td>\n",
              "    </tr>\n",
              "  </tbody>\n",
              "</table>\n",
              "</div>"
            ],
            "text/plain": [
              "     v1  ... Unnamed: 4\n",
              "0   ham  ...        NaN\n",
              "1   ham  ...        NaN\n",
              "2  spam  ...        NaN\n",
              "3   ham  ...        NaN\n",
              "4   ham  ...        NaN\n",
              "\n",
              "[5 rows x 5 columns]"
            ]
          },
          "metadata": {},
          "execution_count": 137
        }
      ]
    },
    {
      "cell_type": "code",
      "source": [
        "data.describe()"
      ],
      "metadata": {
        "colab": {
          "base_uri": "https://localhost:8080/",
          "height": 0
        },
        "id": "aWi4Jvh8MpXN",
        "outputId": "c6b49ef5-7aca-4a29-91ea-f449d8527a93"
      },
      "execution_count": 138,
      "outputs": [
        {
          "output_type": "execute_result",
          "data": {
            "text/html": [
              "<div>\n",
              "<style scoped>\n",
              "    .dataframe tbody tr th:only-of-type {\n",
              "        vertical-align: middle;\n",
              "    }\n",
              "\n",
              "    .dataframe tbody tr th {\n",
              "        vertical-align: top;\n",
              "    }\n",
              "\n",
              "    .dataframe thead th {\n",
              "        text-align: right;\n",
              "    }\n",
              "</style>\n",
              "<table border=\"1\" class=\"dataframe\">\n",
              "  <thead>\n",
              "    <tr style=\"text-align: right;\">\n",
              "      <th></th>\n",
              "      <th>v1</th>\n",
              "      <th>v2</th>\n",
              "      <th>Unnamed: 2</th>\n",
              "      <th>Unnamed: 3</th>\n",
              "      <th>Unnamed: 4</th>\n",
              "    </tr>\n",
              "  </thead>\n",
              "  <tbody>\n",
              "    <tr>\n",
              "      <th>count</th>\n",
              "      <td>5572</td>\n",
              "      <td>5572</td>\n",
              "      <td>50</td>\n",
              "      <td>12</td>\n",
              "      <td>6</td>\n",
              "    </tr>\n",
              "    <tr>\n",
              "      <th>unique</th>\n",
              "      <td>2</td>\n",
              "      <td>5169</td>\n",
              "      <td>43</td>\n",
              "      <td>10</td>\n",
              "      <td>5</td>\n",
              "    </tr>\n",
              "    <tr>\n",
              "      <th>top</th>\n",
              "      <td>ham</td>\n",
              "      <td>Sorry, I'll call later</td>\n",
              "      <td>bt not his girlfrnd... G o o d n i g h t . . .@\"</td>\n",
              "      <td>MK17 92H. 450Ppw 16\"</td>\n",
              "      <td>GNT:-)\"</td>\n",
              "    </tr>\n",
              "    <tr>\n",
              "      <th>freq</th>\n",
              "      <td>4825</td>\n",
              "      <td>30</td>\n",
              "      <td>3</td>\n",
              "      <td>2</td>\n",
              "      <td>2</td>\n",
              "    </tr>\n",
              "  </tbody>\n",
              "</table>\n",
              "</div>"
            ],
            "text/plain": [
              "          v1                      v2  ...             Unnamed: 3 Unnamed: 4\n",
              "count   5572                    5572  ...                     12          6\n",
              "unique     2                    5169  ...                     10          5\n",
              "top      ham  Sorry, I'll call later  ...   MK17 92H. 450Ppw 16\"    GNT:-)\"\n",
              "freq    4825                      30  ...                      2          2\n",
              "\n",
              "[4 rows x 5 columns]"
            ]
          },
          "metadata": {},
          "execution_count": 138
        }
      ]
    },
    {
      "cell_type": "code",
      "source": [
        "data.info()"
      ],
      "metadata": {
        "colab": {
          "base_uri": "https://localhost:8080/"
        },
        "id": "LMYK46mUM0IT",
        "outputId": "360da2d6-8e51-46bf-fceb-0da082110d70"
      },
      "execution_count": 139,
      "outputs": [
        {
          "output_type": "stream",
          "name": "stdout",
          "text": [
            "<class 'pandas.core.frame.DataFrame'>\n",
            "RangeIndex: 5572 entries, 0 to 5571\n",
            "Data columns (total 5 columns):\n",
            " #   Column      Non-Null Count  Dtype \n",
            "---  ------      --------------  ----- \n",
            " 0   v1          5572 non-null   object\n",
            " 1   v2          5572 non-null   object\n",
            " 2   Unnamed: 2  50 non-null     object\n",
            " 3   Unnamed: 3  12 non-null     object\n",
            " 4   Unnamed: 4  6 non-null      object\n",
            "dtypes: object(5)\n",
            "memory usage: 217.8+ KB\n"
          ]
        }
      ]
    },
    {
      "cell_type": "code",
      "source": [
        "data.isnull().sum()"
      ],
      "metadata": {
        "colab": {
          "base_uri": "https://localhost:8080/"
        },
        "id": "Irx6Ij7kNAto",
        "outputId": "ebadfca8-61d0-4f33-e657-7bbf2b4e7037"
      },
      "execution_count": 140,
      "outputs": [
        {
          "output_type": "execute_result",
          "data": {
            "text/plain": [
              "v1               0\n",
              "v2               0\n",
              "Unnamed: 2    5522\n",
              "Unnamed: 3    5560\n",
              "Unnamed: 4    5566\n",
              "dtype: int64"
            ]
          },
          "metadata": {},
          "execution_count": 140
        }
      ]
    },
    {
      "cell_type": "code",
      "source": [
        "data=data.drop(['Unnamed: 2','Unnamed: 3','Unnamed: 4'],axis=1)"
      ],
      "metadata": {
        "id": "F0AnIlN_NN8Y"
      },
      "execution_count": 141,
      "outputs": []
    },
    {
      "cell_type": "code",
      "source": [
        "data=data.rename({'v1':'Type','v2':'Message'},axis=1)"
      ],
      "metadata": {
        "id": "zIC0IR5lNvS4"
      },
      "execution_count": 142,
      "outputs": []
    },
    {
      "cell_type": "code",
      "source": [
        "data.head()"
      ],
      "metadata": {
        "colab": {
          "base_uri": "https://localhost:8080/",
          "height": 0
        },
        "id": "9SQSC9xxNppq",
        "outputId": "19b46fd3-0f2d-4223-ef36-b216076f2775"
      },
      "execution_count": 143,
      "outputs": [
        {
          "output_type": "execute_result",
          "data": {
            "text/html": [
              "<div>\n",
              "<style scoped>\n",
              "    .dataframe tbody tr th:only-of-type {\n",
              "        vertical-align: middle;\n",
              "    }\n",
              "\n",
              "    .dataframe tbody tr th {\n",
              "        vertical-align: top;\n",
              "    }\n",
              "\n",
              "    .dataframe thead th {\n",
              "        text-align: right;\n",
              "    }\n",
              "</style>\n",
              "<table border=\"1\" class=\"dataframe\">\n",
              "  <thead>\n",
              "    <tr style=\"text-align: right;\">\n",
              "      <th></th>\n",
              "      <th>Type</th>\n",
              "      <th>Message</th>\n",
              "    </tr>\n",
              "  </thead>\n",
              "  <tbody>\n",
              "    <tr>\n",
              "      <th>0</th>\n",
              "      <td>ham</td>\n",
              "      <td>Go until jurong point, crazy.. Available only ...</td>\n",
              "    </tr>\n",
              "    <tr>\n",
              "      <th>1</th>\n",
              "      <td>ham</td>\n",
              "      <td>Ok lar... Joking wif u oni...</td>\n",
              "    </tr>\n",
              "    <tr>\n",
              "      <th>2</th>\n",
              "      <td>spam</td>\n",
              "      <td>Free entry in 2 a wkly comp to win FA Cup fina...</td>\n",
              "    </tr>\n",
              "    <tr>\n",
              "      <th>3</th>\n",
              "      <td>ham</td>\n",
              "      <td>U dun say so early hor... U c already then say...</td>\n",
              "    </tr>\n",
              "    <tr>\n",
              "      <th>4</th>\n",
              "      <td>ham</td>\n",
              "      <td>Nah I don't think he goes to usf, he lives aro...</td>\n",
              "    </tr>\n",
              "  </tbody>\n",
              "</table>\n",
              "</div>"
            ],
            "text/plain": [
              "   Type                                            Message\n",
              "0   ham  Go until jurong point, crazy.. Available only ...\n",
              "1   ham                      Ok lar... Joking wif u oni...\n",
              "2  spam  Free entry in 2 a wkly comp to win FA Cup fina...\n",
              "3   ham  U dun say so early hor... U c already then say...\n",
              "4   ham  Nah I don't think he goes to usf, he lives aro..."
            ]
          },
          "metadata": {},
          "execution_count": 143
        }
      ]
    },
    {
      "cell_type": "code",
      "source": [
        "plt.figure(figsize=(6,6))\n",
        "\n",
        "x= data.Type.value_counts()\n",
        "sns.countplot(x= \"Type\",data= data)"
      ],
      "metadata": {
        "colab": {
          "base_uri": "https://localhost:8080/",
          "height": 0
        },
        "id": "i7wlUVrkOF-N",
        "outputId": "b2ff169f-bad4-474c-e2ce-2c12159fbf0f"
      },
      "execution_count": 144,
      "outputs": [
        {
          "output_type": "execute_result",
          "data": {
            "text/plain": [
              "<matplotlib.axes._subplots.AxesSubplot at 0x7fc6ff8b7e10>"
            ]
          },
          "metadata": {},
          "execution_count": 144
        },
        {
          "output_type": "display_data",
          "data": {
            "image/png": "[encoded data removed]",
            "text/plain": [
              "<Figure size 432x432 with 1 Axes>"
            ]
          },
          "metadata": {
            "needs_background": "light"
          }
        }
      ]
    },
    {
      "cell_type": "code",
      "source": [
        "plt.figure(figsize=(8,12))\n",
        "\n",
        "label= [\"ham\",\"spam\"]\n",
        "\n",
        "plt.pie(x.values, labels= label ,autopct= \"%1.1f%%\")\n",
        "plt.show()  "
      ],
      "metadata": {
        "colab": {
          "base_uri": "https://localhost:8080/",
          "height": 0
        },
        "id": "CG_PLfB2OITJ",
        "outputId": "84ebf079-074d-472c-b2d6-0dffa874f459"
      },
      "execution_count": 145,
      "outputs": [
        {
          "output_type": "display_data",
          "data": {
            "image/png": "[encoded data removed]",
            "text/plain": [
              "<Figure size 576x864 with 1 Axes>"
            ]
          },
          "metadata": {}
        }
      ]
    },
    {
      "cell_type": "code",
      "source": [
        "pip install contractions"
      ],
      "metadata": {
        "colab": {
          "base_uri": "https://localhost:8080/"
        },
        "id": "D3LGHmCLsU7y",
        "outputId": "8b846913-9281-4400-92ee-f96bdaec0390"
      },
      "execution_count": 146,
      "outputs": [
        {
          "output_type": "stream",
          "name": "stdout",
          "text": [
            "Requirement already satisfied: contractions in /usr/local/lib/python3.7/dist-packages (0.0.58)\n",
            "Requirement already satisfied: textsearch>=0.0.21 in /usr/local/lib/python3.7/dist-packages (from contractions) (0.0.21)\n",
            "Requirement already satisfied: pyahocorasick in /usr/local/lib/python3.7/dist-packages (from textsearch>=0.0.21->contractions) (1.4.2)\n",
            "Requirement already satisfied: anyascii in /usr/local/lib/python3.7/dist-packages (from textsearch>=0.0.21->contractions) (0.3.0)\n"
          ]
        }
      ]
    },
    {
      "cell_type": "code",
      "source": [
        "import re\n",
        "import contractions\n",
        "import collections\n",
        "import nltk\n",
        "from nltk.stem import WordNetLemmatizer\n",
        "from nltk.corpus import stopwords\n",
        "nltk.download('stopwords')"
      ],
      "metadata": {
        "colab": {
          "base_uri": "https://localhost:8080/"
        },
        "id": "B4cbb_3jrEIC",
        "outputId": "1137082e-4a34-42cf-8ec3-425095ebb395"
      },
      "execution_count": 147,
      "outputs": [
        {
          "output_type": "stream",
          "name": "stdout",
          "text": [
            "[nltk_data] Downloading package stopwords to /root/nltk_data...\n",
            "[nltk_data]   Package stopwords is already up-to-date!\n"
          ]
        },
        {
          "output_type": "execute_result",
          "data": {
            "text/plain": [
              "True"
            ]
          },
          "metadata": {},
          "execution_count": 147
        }
      ]
    },
    {
      "cell_type": "markdown",
      "source": [
        "## Токенизация и разделение данных на тестовые и тренеровочные"
      ],
      "metadata": {
        "id": "WtXj6aA9wsgl"
      }
    },
    {
      "cell_type": "markdown",
      "source": [
        "1) Преобразование сокращений в полную форму (\"I'm\" to \"I am\")\n",
        "\n",
        "2) Нижний регистр смс\n",
        "\n",
        "3) Замена ссылок на url, чтобы факт наличие ссылки в сообшение остался, но уникаильных ссылок не было\n",
        "\n",
        "4) Удаление символов и цифр\n",
        "\n",
        "5) Лемматизация и удаление стоп-слов\n"
      ],
      "metadata": {
        "id": "ScTCtaV3mbIg"
      }
    },
    {
      "cell_type": "code",
      "source": [
        "nltk.download('wordnet')\n",
        "lem = WordNetLemmatizer()\n",
        "def preprocessing(data):\n",
        "      sms = contractions.fix(data)\n",
        "      sms = sms.lower()\n",
        "      sms = re.sub(r'https?://S+|www.S+', \"url\", sms).strip()\n",
        "      sms = re.sub(\"[^a-z ]\", \"\", sms)\n",
        "      sms = sms.split()\n",
        "      sms = [lem.lemmatize(word) for word in sms if not word in set(stopwords.words(\"english\"))]\n",
        "      sms = \" \".join(sms)\n",
        "      return sms\n",
        "X = data[\"Message\"].apply(preprocessing)"
      ],
      "metadata": {
        "colab": {
          "base_uri": "https://localhost:8080/"
        },
        "id": "goeInfIzwWsW",
        "outputId": "469a4f85-7d3f-4f23-a747-d775010173ea"
      },
      "execution_count": 148,
      "outputs": [
        {
          "output_type": "stream",
          "name": "stdout",
          "text": [
            "[nltk_data] Downloading package wordnet to /root/nltk_data...\n",
            "[nltk_data]   Package wordnet is already up-to-date!\n"
          ]
        }
      ]
    },
    {
      "cell_type": "code",
      "source": [
        "def word_count_plot(data):\n",
        "     word_counter = collections.Counter([word for sentence in data for word in sentence.split()])\n",
        "     most_count = word_counter.most_common(50) # 30 most common words\n",
        "     most_count = pd.DataFrame(most_count, columns=[\"Word\", \"Count\"]).sort_values(by=\"Count\")\n",
        "     most_count.plot.barh(x = \"Word\", y = \"Count\", color=\"green\", figsize=(10, 15))"
      ],
      "metadata": {
        "id": "Z_rAMg3wt9PP"
      },
      "execution_count": 149,
      "outputs": []
    },
    {
      "cell_type": "code",
      "source": [
        "word_count_plot(X)"
      ],
      "metadata": {
        "colab": {
          "base_uri": "https://localhost:8080/",
          "height": 0
        },
        "id": "dnPOaJEruB4v",
        "outputId": "7dea2379-53e1-4d23-d84c-eea9d60112a7"
      },
      "execution_count": 150,
      "outputs": [
        {
          "output_type": "display_data",
          "data": {
            "image/png": "[encoded data removed]",
            "text/plain": [
              "<Figure size 720x1080 with 1 Axes>"
            ]
          },
          "metadata": {
            "needs_background": "light"
          }
        }
      ]
    },
    {
      "cell_type": "code",
      "source": [
        "from wordcloud import WordCloud, STOPWORDS\n",
        "import matplotlib.pyplot as plt\n",
        "\n",
        "word_counter = collections.Counter([word for sentence in X for word in sentence.split()])\n",
        "most_count = word_counter.most_common(50)\n",
        "most_count = pd.DataFrame(most_count, columns=[\"Word\", \"Count\"]).sort_values(by=\"Count\", ascending=0)\n",
        "\n",
        "wordcloud = WordCloud(width = 3000, height = 2000, background_color = 'black').generate(str(most_count[\"Word\"]))\n",
        "\n",
        "fig = plt.figure(\n",
        "    figsize = (10, 10),\n",
        "    facecolor = 'k',\n",
        "    edgecolor = 'k')\n",
        "plt.imshow(wordcloud, interpolation = 'bilinear')\n",
        "plt.axis('off')\n",
        "plt.tight_layout(pad=0)\n",
        "plt.show()"
      ],
      "metadata": {
        "colab": {
          "base_uri": "https://localhost:8080/",
          "height": 0
        },
        "id": "k1wgxHxTUXRD",
        "outputId": "6a9ddc56-22d3-4f39-8357-67496c1ac57a"
      },
      "execution_count": 151,
      "outputs": [
        {
          "output_type": "display_data",
          "data": {
            "image/png": "[encoded data removed]",
            "text/plain": [
              "<Figure size 720x720 with 1 Axes>"
            ]
          },
          "metadata": {}
        }
      ]
    },
    {
      "cell_type": "markdown",
      "source": [
        "Вывел часто встречающиеся слова двуми способами, понятным, но не красивым и красивым, но не очень понятным. Очень много сокращений типо 'u'(you). Что негативно скажется на моделях."
      ],
      "metadata": {
        "id": "VEpDczhxi2Wp"
      }
    },
    {
      "cell_type": "code",
      "source": [
        "import keras\n",
        "from keras.layers import Dense, Embedding, LSTM, Dropout\n",
        "from keras.models import Sequential\n",
        "from keras.preprocessing.text import Tokenizer\n",
        "from keras.preprocessing.sequence import pad_sequences\n",
        "from sklearn.preprocessing import LabelEncoder\n",
        "from sklearn.metrics import classification_report"
      ],
      "metadata": {
        "id": "aywT27dtu5Qt"
      },
      "execution_count": 152,
      "outputs": []
    },
    {
      "cell_type": "markdown",
      "source": [
        "Токенизируем слова"
      ],
      "metadata": {
        "id": "YN7ELnBXkNwS"
      }
    },
    {
      "cell_type": "code",
      "source": [
        "lb_enc = LabelEncoder()\n",
        "y = lb_enc.fit_transform(data[\"Type\"])"
      ],
      "metadata": {
        "id": "RrBQU3cTuD_V"
      },
      "execution_count": 153,
      "outputs": []
    },
    {
      "cell_type": "code",
      "source": [
        "tokenizer = Tokenizer()\n",
        "tokenizer.fit_on_texts(X)\n",
        "text_to_sequence = tokenizer.texts_to_sequences(X)"
      ],
      "metadata": {
        "id": "fYvuau0JuHwp"
      },
      "execution_count": 154,
      "outputs": []
    },
    {
      "cell_type": "code",
      "source": [
        " for i in range(5):\n",
        "           print(\"Text               : \",X[i] )\n",
        "           print(\"Numerical Sequence : \", text_to_sequence[i])"
      ],
      "metadata": {
        "colab": {
          "base_uri": "https://localhost:8080/"
        },
        "id": "HPYIUewzuJhL",
        "outputId": "c60bdc83-1ef0-4881-bdf3-9bf2b8824905"
      },
      "execution_count": 155,
      "outputs": [
        {
          "output_type": "stream",
          "name": "stdout",
          "text": [
            "Text               :  go jurong point crazy available bugis n great world la e buffet cine got amore wat\n",
            "Numerical Sequence :  [4, 3591, 255, 555, 528, 1032, 35, 55, 236, 849, 82, 2423, 1033, 10, 3592, 69]\n",
            "Text               :  ok lar joking wif oni\n",
            "Numerical Sequence :  [7, 220, 1178, 330, 1545]\n",
            "Text               :  free entry wkly comp win fa cup final tkts st may text fa receive entry questionstd txt ratetcs apply over\n",
            "Numerical Sequence :  [6, 344, 588, 727, 94, 1546, 850, 482, 1547, 148, 177, 18, 1546, 221, 344, 2424, 23, 2425, 264, 2426]\n",
            "Text               :  dun say early hor c already say\n",
            "Numerical Sequence :  [144, 47, 256, 2427, 68, 76, 47]\n",
            "Text               :  nah think go usf life around though\n",
            "Numerical Sequence :  [777, 33, 4, 728, 89, 123, 345]\n"
          ]
        }
      ]
    },
    {
      "cell_type": "code",
      "source": [
        "# словарь (индекс : слов)\n",
        "tokenizer.index_word"
      ],
      "metadata": {
        "colab": {
          "base_uri": "https://localhost:8080/"
        },
        "id": "D9cSi5fquLWx",
        "outputId": "91c18bd1-b5f8-4103-8607-0c2be2cad8b4"
      },
      "execution_count": 156,
      "outputs": [
        {
          "output_type": "execute_result",
          "data": {
            "text/plain": [
              "{1: 'call',\n",
              " 2: 'get',\n",
              " 3: 'ur',\n",
              " 4: 'go',\n",
              " 5: 'know',\n",
              " 6: 'free',\n",
              " 7: 'ok',\n",
              " 8: 'ltgt',\n",
              " 9: 'day',\n",
              " 10: 'got',\n",
              " 11: 'want',\n",
              " 12: 'come',\n",
              " 13: 'like',\n",
              " 14: 'love',\n",
              " 15: 'good',\n",
              " 16: 'time',\n",
              " 17: 'going',\n",
              " 18: 'text',\n",
              " 19: 'send',\n",
              " 20: 'need',\n",
              " 21: 'one',\n",
              " 22: 'today',\n",
              " 23: 'txt',\n",
              " 24: 'home',\n",
              " 25: 'lor',\n",
              " 26: 'see',\n",
              " 27: 'sorry',\n",
              " 28: 'stop',\n",
              " 29: 'r',\n",
              " 30: 'still',\n",
              " 31: 'back',\n",
              " 32: 'mobile',\n",
              " 33: 'think',\n",
              " 34: 'reply',\n",
              " 35: 'n',\n",
              " 36: 'take',\n",
              " 37: 'tell',\n",
              " 38: 'phone',\n",
              " 39: 'new',\n",
              " 40: 'week',\n",
              " 41: 'later',\n",
              " 42: 'da',\n",
              " 43: 'hi',\n",
              " 44: 'please',\n",
              " 45: 'cannot',\n",
              " 46: 'make',\n",
              " 47: 'say',\n",
              " 48: 'night',\n",
              " 49: 'claim',\n",
              " 50: 'well',\n",
              " 51: 'thing',\n",
              " 52: 'much',\n",
              " 53: 'dear',\n",
              " 54: 'oh',\n",
              " 55: 'great',\n",
              " 56: 'hey',\n",
              " 57: 'pls',\n",
              " 58: 'would',\n",
              " 59: 'give',\n",
              " 60: 'number',\n",
              " 61: 'happy',\n",
              " 62: 'friend',\n",
              " 63: 'work',\n",
              " 64: 'hope',\n",
              " 65: 'message',\n",
              " 66: 'u',\n",
              " 67: 'way',\n",
              " 68: 'c',\n",
              " 69: 'wat',\n",
              " 70: 'msg',\n",
              " 71: 'prize',\n",
              " 72: 'right',\n",
              " 73: 'yes',\n",
              " 74: 'let',\n",
              " 75: 'min',\n",
              " 76: 'already',\n",
              " 77: 'tomorrow',\n",
              " 78: 'ask',\n",
              " 79: 'really',\n",
              " 80: 'yeah',\n",
              " 81: 'said',\n",
              " 82: 'e',\n",
              " 83: 'k',\n",
              " 84: 'b',\n",
              " 85: 'babe',\n",
              " 86: 'co',\n",
              " 87: 'p',\n",
              " 88: 'amp',\n",
              " 89: 'life',\n",
              " 90: 'meet',\n",
              " 91: 'morning',\n",
              " 92: 'year',\n",
              " 93: 'last',\n",
              " 94: 'win',\n",
              " 95: 'miss',\n",
              " 96: 'service',\n",
              " 97: 'thanks',\n",
              " 98: 'cash',\n",
              " 99: 'find',\n",
              " 100: 'ill',\n",
              " 101: 'feel',\n",
              " 102: 'lol',\n",
              " 103: 'anything',\n",
              " 104: 'every',\n",
              " 105: 'tone',\n",
              " 106: 'nokia',\n",
              " 107: 'sure',\n",
              " 108: 'pick',\n",
              " 109: 'also',\n",
              " 110: 'soon',\n",
              " 111: 'contact',\n",
              " 112: 'keep',\n",
              " 113: 'something',\n",
              " 114: 'care',\n",
              " 115: 'sent',\n",
              " 116: 'urgent',\n",
              " 117: 'could',\n",
              " 118: 'buy',\n",
              " 119: 'place',\n",
              " 120: 'next',\n",
              " 121: 'first',\n",
              " 122: 'guy',\n",
              " 123: 'around',\n",
              " 124: 'even',\n",
              " 125: 'tonight',\n",
              " 126: 'show',\n",
              " 127: 'went',\n",
              " 128: 'customer',\n",
              " 129: 'help',\n",
              " 130: 'someone',\n",
              " 131: 'wish',\n",
              " 132: 'per',\n",
              " 133: 'wait',\n",
              " 134: 'many',\n",
              " 135: 'nice',\n",
              " 136: 'money',\n",
              " 137: 'chat',\n",
              " 138: 'sleep',\n",
              " 139: 'wan',\n",
              " 140: 'word',\n",
              " 141: 'always',\n",
              " 142: 'late',\n",
              " 143: 'ya',\n",
              " 144: 'dun',\n",
              " 145: 'leave',\n",
              " 146: 'name',\n",
              " 147: 'end',\n",
              " 148: 'st',\n",
              " 149: 'v',\n",
              " 150: 'waiting',\n",
              " 151: 'gud',\n",
              " 152: 'told',\n",
              " 153: 'hour',\n",
              " 154: 'tc',\n",
              " 155: 'x',\n",
              " 156: 'people',\n",
              " 157: 'lot',\n",
              " 158: 'minute',\n",
              " 159: 'getting',\n",
              " 160: 'girl',\n",
              " 161: 'guaranteed',\n",
              " 162: 'yet',\n",
              " 163: 'thk',\n",
              " 164: 'coming',\n",
              " 165: 'box',\n",
              " 166: 'month',\n",
              " 167: 'done',\n",
              " 168: 'hello',\n",
              " 169: 'smile',\n",
              " 170: 'try',\n",
              " 171: 'thought',\n",
              " 172: 'person',\n",
              " 173: 'haha',\n",
              " 174: 'talk',\n",
              " 175: 'class',\n",
              " 176: 'best',\n",
              " 177: 'may',\n",
              " 178: 'live',\n",
              " 179: 'mean',\n",
              " 180: 'offer',\n",
              " 181: 'th',\n",
              " 182: 'fine',\n",
              " 183: 'finish',\n",
              " 184: 'lunch',\n",
              " 185: 'man',\n",
              " 186: 'job',\n",
              " 187: 'line',\n",
              " 188: 'stuff',\n",
              " 189: 'use',\n",
              " 190: 'car',\n",
              " 191: 'sm',\n",
              " 192: 'bit',\n",
              " 193: 'draw',\n",
              " 194: 'ppm',\n",
              " 195: 'holiday',\n",
              " 196: 'heart',\n",
              " 197: 'yup',\n",
              " 198: 'trying',\n",
              " 199: 'never',\n",
              " 200: 'special',\n",
              " 201: 'meeting',\n",
              " 202: 'plan',\n",
              " 203: 'long',\n",
              " 204: 'better',\n",
              " 205: 'account',\n",
              " 206: 'dat',\n",
              " 207: 'start',\n",
              " 208: 'chance',\n",
              " 209: 'cool',\n",
              " 210: 'ready',\n",
              " 211: 'problem',\n",
              " 212: 'god',\n",
              " 213: 'mind',\n",
              " 214: 'latest',\n",
              " 215: 'weekend',\n",
              " 216: 'hr',\n",
              " 217: 'room',\n",
              " 218: 'guess',\n",
              " 219: 'enjoy',\n",
              " 220: 'lar',\n",
              " 221: 'receive',\n",
              " 222: 'cost',\n",
              " 223: 'eat',\n",
              " 224: 'look',\n",
              " 225: 'half',\n",
              " 226: 'play',\n",
              " 227: 'check',\n",
              " 228: 'awarded',\n",
              " 229: 'nothing',\n",
              " 230: 'game',\n",
              " 231: 'real',\n",
              " 232: 'yo',\n",
              " 233: 'another',\n",
              " 234: 'big',\n",
              " 235: 'voucher',\n",
              " 236: 'world',\n",
              " 237: 'camera',\n",
              " 238: 'birthday',\n",
              " 239: 'landline',\n",
              " 240: 'house',\n",
              " 241: 'boy',\n",
              " 242: 'shit',\n",
              " 243: 'dinner',\n",
              " 244: 'sweet',\n",
              " 245: 'sir',\n",
              " 246: 'liao',\n",
              " 247: 'jus',\n",
              " 248: 'kiss',\n",
              " 249: 'ever',\n",
              " 250: 'watching',\n",
              " 251: 'pm',\n",
              " 252: 'watch',\n",
              " 253: 'might',\n",
              " 254: 'quite',\n",
              " 255: 'point',\n",
              " 256: 'early',\n",
              " 257: 'xxx',\n",
              " 258: 'speak',\n",
              " 259: 'aight',\n",
              " 260: 'called',\n",
              " 261: 'po',\n",
              " 262: 'probably',\n",
              " 263: 'pic',\n",
              " 264: 'apply',\n",
              " 265: 'fun',\n",
              " 266: 'bus',\n",
              " 267: 'nd',\n",
              " 268: 'part',\n",
              " 269: 'hear',\n",
              " 270: 'pa',\n",
              " 271: 'bed',\n",
              " 272: 'rate',\n",
              " 273: 'thanx',\n",
              " 274: 'video',\n",
              " 275: 'baby',\n",
              " 276: 'two',\n",
              " 277: 'actually',\n",
              " 278: 'den',\n",
              " 279: 'princess',\n",
              " 280: 'network',\n",
              " 281: 'remember',\n",
              " 282: 'pay',\n",
              " 283: 'maybe',\n",
              " 284: 'forgot',\n",
              " 285: 'worry',\n",
              " 286: 'question',\n",
              " 287: 'easy',\n",
              " 288: 'nite',\n",
              " 289: 'reach',\n",
              " 290: 'shopping',\n",
              " 291: 'orange',\n",
              " 292: 'bad',\n",
              " 293: 'code',\n",
              " 294: 'pobox',\n",
              " 295: 'left',\n",
              " 296: 'dis',\n",
              " 297: 'ah',\n",
              " 298: 'hurt',\n",
              " 299: 'award',\n",
              " 300: 'little',\n",
              " 301: 'sat',\n",
              " 302: 'put',\n",
              " 303: 'shall',\n",
              " 304: 'fuck',\n",
              " 305: 'dad',\n",
              " 306: 'selected',\n",
              " 307: 'enough',\n",
              " 308: 'looking',\n",
              " 309: 'school',\n",
              " 310: 'yr',\n",
              " 311: 'working',\n",
              " 312: 'evening',\n",
              " 313: 'leh',\n",
              " 314: 'g',\n",
              " 315: 'face',\n",
              " 316: 'everything',\n",
              " 317: 'gift',\n",
              " 318: 'made',\n",
              " 319: 'mate',\n",
              " 320: 'pound',\n",
              " 321: 'thank',\n",
              " 322: 'afternoon',\n",
              " 323: 'wk',\n",
              " 324: 'without',\n",
              " 325: 'tv',\n",
              " 326: 'xmas',\n",
              " 327: 'tmr',\n",
              " 328: 'asked',\n",
              " 329: 'movie',\n",
              " 330: 'wif',\n",
              " 331: 'ringtone',\n",
              " 332: 'since',\n",
              " 333: 'came',\n",
              " 334: 'anyway',\n",
              " 335: 'must',\n",
              " 336: 'join',\n",
              " 337: 'sexy',\n",
              " 338: 'dream',\n",
              " 339: 'missing',\n",
              " 340: 'sound',\n",
              " 341: 'collect',\n",
              " 342: 'detail',\n",
              " 343: 'town',\n",
              " 344: 'entry',\n",
              " 345: 'though',\n",
              " 346: 'uk',\n",
              " 347: 'lesson',\n",
              " 348: 'wanted',\n",
              " 349: 'run',\n",
              " 350: 'abt',\n",
              " 351: 'okay',\n",
              " 352: 'price',\n",
              " 353: 'pmin',\n",
              " 354: 'answer',\n",
              " 355: 'mail',\n",
              " 356: 'able',\n",
              " 357: 'hav',\n",
              " 358: 'important',\n",
              " 359: 'wake',\n",
              " 360: 'bring',\n",
              " 361: 'collection',\n",
              " 362: 'mob',\n",
              " 363: 'test',\n",
              " 364: 'juz',\n",
              " 365: 'til',\n",
              " 366: 'stay',\n",
              " 367: 'true',\n",
              " 368: 'charge',\n",
              " 369: 'plz',\n",
              " 370: 'book',\n",
              " 371: 'office',\n",
              " 372: 'change',\n",
              " 373: 'kind',\n",
              " 374: 'away',\n",
              " 375: 'plus',\n",
              " 376: 'wife',\n",
              " 377: 'update',\n",
              " 378: 'till',\n",
              " 379: 'pain',\n",
              " 380: 'hair',\n",
              " 381: 'wen',\n",
              " 382: 'else',\n",
              " 383: 'age',\n",
              " 384: 'weekly',\n",
              " 385: 'wot',\n",
              " 386: 'dude',\n",
              " 387: 'attempt',\n",
              " 388: 'de',\n",
              " 389: 'valid',\n",
              " 390: 'colour',\n",
              " 391: 'credit',\n",
              " 392: 'alright',\n",
              " 393: 'saw',\n",
              " 394: 'yesterday',\n",
              " 395: 'double',\n",
              " 396: 'trip',\n",
              " 397: 'making',\n",
              " 398: 'food',\n",
              " 399: 'top',\n",
              " 400: 'bt',\n",
              " 401: 'haf',\n",
              " 402: 'si',\n",
              " 403: 'ltdecimalgt',\n",
              " 404: 'oso',\n",
              " 405: 'missed',\n",
              " 406: 'music',\n",
              " 407: 'bored',\n",
              " 408: 'lei',\n",
              " 409: 'date',\n",
              " 410: 'ard',\n",
              " 411: 'tried',\n",
              " 412: 'delivery',\n",
              " 413: 'driving',\n",
              " 414: 'hot',\n",
              " 415: 'friendship',\n",
              " 416: 'drink',\n",
              " 417: 'either',\n",
              " 418: 'sch',\n",
              " 419: 'online',\n",
              " 420: 'brother',\n",
              " 421: 'mom',\n",
              " 422: 'second',\n",
              " 423: 'bonus',\n",
              " 424: 'address',\n",
              " 425: 'player',\n",
              " 426: 'order',\n",
              " 427: 'smoke',\n",
              " 428: 'story',\n",
              " 429: 'id',\n",
              " 430: 'wid',\n",
              " 431: 'club',\n",
              " 432: 'full',\n",
              " 433: 'head',\n",
              " 434: 'tot',\n",
              " 435: 'sae',\n",
              " 436: 'lose',\n",
              " 437: 'family',\n",
              " 438: 'together',\n",
              " 439: 'feeling',\n",
              " 440: 'goin',\n",
              " 441: 'sad',\n",
              " 442: 'set',\n",
              " 443: 'close',\n",
              " 444: 'smiling',\n",
              " 445: 'old',\n",
              " 446: 'believe',\n",
              " 447: 'noe',\n",
              " 448: 'happen',\n",
              " 449: 'walk',\n",
              " 450: 'calling',\n",
              " 451: 'post',\n",
              " 452: 'huh',\n",
              " 453: 'beautiful',\n",
              " 454: 'tscs',\n",
              " 455: 'saying',\n",
              " 456: 'drive',\n",
              " 457: 'await',\n",
              " 458: 'aft',\n",
              " 459: 'took',\n",
              " 460: 'finished',\n",
              " 461: 'busy',\n",
              " 462: 'private',\n",
              " 463: 'match',\n",
              " 464: 'leaving',\n",
              " 465: 'everyone',\n",
              " 466: 'hand',\n",
              " 467: 'gr',\n",
              " 468: 'awesome',\n",
              " 469: 'shop',\n",
              " 470: 'coz',\n",
              " 471: 'ring',\n",
              " 472: 'okie',\n",
              " 473: 'mths',\n",
              " 474: 'eve',\n",
              " 475: 'land',\n",
              " 476: 'thinking',\n",
              " 477: 'mum',\n",
              " 478: 'email',\n",
              " 479: 'w',\n",
              " 480: 'rite',\n",
              " 481: 'drop',\n",
              " 482: 'final',\n",
              " 483: 'caller',\n",
              " 484: 'forget',\n",
              " 485: 'congrats',\n",
              " 486: 'started',\n",
              " 487: 'statement',\n",
              " 488: 'taking',\n",
              " 489: 'content',\n",
              " 490: 'break',\n",
              " 491: 'company',\n",
              " 492: 'wil',\n",
              " 493: 'angry',\n",
              " 494: 'unsubscribe',\n",
              " 495: 'card',\n",
              " 496: 'sister',\n",
              " 497: 'valentine',\n",
              " 498: 'reason',\n",
              " 499: 'poly',\n",
              " 500: 'simple',\n",
              " 501: 'neva',\n",
              " 502: 'pub',\n",
              " 503: 'possible',\n",
              " 504: 'treat',\n",
              " 505: 'news',\n",
              " 506: 'tho',\n",
              " 507: 'tomo',\n",
              " 508: 'lucky',\n",
              " 509: 'search',\n",
              " 510: 'bday',\n",
              " 511: 'expires',\n",
              " 512: 'open',\n",
              " 513: 'fancy',\n",
              " 514: 'bank',\n",
              " 515: 'worth',\n",
              " 516: 'touch',\n",
              " 517: 'found',\n",
              " 518: 'sleeping',\n",
              " 519: 'choose',\n",
              " 520: 'mine',\n",
              " 521: 'whatever',\n",
              " 522: 'sun',\n",
              " 523: 'knw',\n",
              " 524: 'anyone',\n",
              " 525: 'parent',\n",
              " 526: 'alone',\n",
              " 527: 'auction',\n",
              " 528: 'available',\n",
              " 529: 'winner',\n",
              " 530: 'ha',\n",
              " 531: 'smth',\n",
              " 532: 'saturday',\n",
              " 533: 'decided',\n",
              " 534: 'song',\n",
              " 535: 'ticket',\n",
              " 536: 'prob',\n",
              " 537: 'happened',\n",
              " 538: 'uncle',\n",
              " 539: 'unredeemed',\n",
              " 540: 'identifier',\n",
              " 541: 'type',\n",
              " 542: 'hard',\n",
              " 543: 'frnd',\n",
              " 544: 'boytoy',\n",
              " 545: 'exam',\n",
              " 546: 'secret',\n",
              " 547: 'anytime',\n",
              " 548: 'far',\n",
              " 549: 'pmsg',\n",
              " 550: 'mobileupd',\n",
              " 551: 'dating',\n",
              " 552: 'welcome',\n",
              " 553: 'gd',\n",
              " 554: 'party',\n",
              " 555: 'crazy',\n",
              " 556: 'wonderful',\n",
              " 557: 'camcorder',\n",
              " 558: 'used',\n",
              " 559: 'gone',\n",
              " 560: 'hit',\n",
              " 561: 'operator',\n",
              " 562: 'friday',\n",
              " 563: 'mu',\n",
              " 564: 'nt',\n",
              " 565: 'ltd',\n",
              " 566: 'wit',\n",
              " 567: 'muz',\n",
              " 568: 'carlos',\n",
              " 569: 'finally',\n",
              " 570: 'college',\n",
              " 571: 'oredi',\n",
              " 572: 'congratulation',\n",
              " 573: 'read',\n",
              " 574: 'light',\n",
              " 575: 'project',\n",
              " 576: 'fucking',\n",
              " 577: 'visit',\n",
              " 578: 'nope',\n",
              " 579: 'outside',\n",
              " 580: 'fri',\n",
              " 581: 'pretty',\n",
              " 582: 'sea',\n",
              " 583: 'fast',\n",
              " 584: 'drug',\n",
              " 585: 'wonder',\n",
              " 586: 'lovely',\n",
              " 587: 'loving',\n",
              " 588: 'wkly',\n",
              " 589: 'info',\n",
              " 590: 'hungry',\n",
              " 591: 'seeing',\n",
              " 592: 'telling',\n",
              " 593: 'whole',\n",
              " 594: 'frnds',\n",
              " 595: 'dont',\n",
              " 596: 'quiz',\n",
              " 597: 'log',\n",
              " 598: 'course',\n",
              " 599: 'mrng',\n",
              " 600: 'darlin',\n",
              " 601: 'goodmorning',\n",
              " 602: 'case',\n",
              " 603: 'meant',\n",
              " 604: 'cd',\n",
              " 605: 'hold',\n",
              " 606: 'unlimited',\n",
              " 607: 'fone',\n",
              " 608: 'jay',\n",
              " 609: 'bout',\n",
              " 610: 'ten',\n",
              " 611: 'cum',\n",
              " 612: 'term',\n",
              " 613: 'listen',\n",
              " 614: 'snow',\n",
              " 615: 'gal',\n",
              " 616: 'wrong',\n",
              " 617: 'press',\n",
              " 618: 'valued',\n",
              " 619: 'im',\n",
              " 620: 'child',\n",
              " 621: 'almost',\n",
              " 622: 'etc',\n",
              " 623: 'move',\n",
              " 624: 'cut',\n",
              " 625: 'hee',\n",
              " 626: 'download',\n",
              " 627: 'computer',\n",
              " 628: 'mah',\n",
              " 629: 'felt',\n",
              " 630: 'invited',\n",
              " 631: 'joy',\n",
              " 632: 'f',\n",
              " 633: 'march',\n",
              " 634: 'optout',\n",
              " 635: 'side',\n",
              " 636: 'tel',\n",
              " 637: 'fr',\n",
              " 638: 'dnt',\n",
              " 639: 'single',\n",
              " 640: 'bslvyl',\n",
              " 641: 'lost',\n",
              " 642: 'reading',\n",
              " 643: 'txts',\n",
              " 644: 'currently',\n",
              " 645: 'moment',\n",
              " 646: 'motorola',\n",
              " 647: 'talking',\n",
              " 648: 'couple',\n",
              " 649: 'rock',\n",
              " 650: 'as',\n",
              " 651: 'le',\n",
              " 652: 'savamob',\n",
              " 653: 'sub',\n",
              " 654: 'within',\n",
              " 655: 'yar',\n",
              " 656: 'happiness',\n",
              " 657: 'area',\n",
              " 658: 'paper',\n",
              " 659: 'opt',\n",
              " 660: 'sex',\n",
              " 661: 'mayb',\n",
              " 662: 'wats',\n",
              " 663: 'least',\n",
              " 664: 'earlier',\n",
              " 665: 'film',\n",
              " 666: 'luck',\n",
              " 667: 'chennai',\n",
              " 668: 'enter',\n",
              " 669: 'gas',\n",
              " 670: 'freemsg',\n",
              " 671: 'promise',\n",
              " 672: 'eh',\n",
              " 673: 'national',\n",
              " 674: 'eg',\n",
              " 675: 'hospital',\n",
              " 676: 'wow',\n",
              " 677: 'correct',\n",
              " 678: 'pas',\n",
              " 679: 'complimentary',\n",
              " 680: 'xx',\n",
              " 681: 'ampm',\n",
              " 682: 'load',\n",
              " 683: 'shower',\n",
              " 684: 'askd',\n",
              " 685: 'sending',\n",
              " 686: 'direct',\n",
              " 687: 'tired',\n",
              " 688: 'ni',\n",
              " 689: 'mr',\n",
              " 690: 'bill',\n",
              " 691: 'semester',\n",
              " 692: 'laptop',\n",
              " 693: 'blue',\n",
              " 694: 'swing',\n",
              " 695: 'die',\n",
              " 696: 'christmas',\n",
              " 697: 'via',\n",
              " 698: 'figure',\n",
              " 699: 'ish',\n",
              " 700: 'ago',\n",
              " 701: 'chikku',\n",
              " 702: 'seen',\n",
              " 703: 'rental',\n",
              " 704: 'supposed',\n",
              " 705: 'park',\n",
              " 706: 'ipod',\n",
              " 707: 'gym',\n",
              " 708: 'kid',\n",
              " 709: 'darren',\n",
              " 710: 'an',\n",
              " 711: 'sell',\n",
              " 712: 'eye',\n",
              " 713: 'store',\n",
              " 714: 'picking',\n",
              " 715: 'ugh',\n",
              " 716: 'extra',\n",
              " 717: 'sort',\n",
              " 718: 'knew',\n",
              " 719: 'photo',\n",
              " 720: 'support',\n",
              " 721: 'information',\n",
              " 722: 'surprise',\n",
              " 723: 'grin',\n",
              " 724: 'difficult',\n",
              " 725: 'john',\n",
              " 726: 'father',\n",
              " 727: 'comp',\n",
              " 728: 'usf',\n",
              " 729: 'request',\n",
              " 730: 'link',\n",
              " 731: 'comin',\n",
              " 732: 'cheer',\n",
              " 733: 'charged',\n",
              " 734: 'confirm',\n",
              " 735: 'abiola',\n",
              " 736: 'crave',\n",
              " 737: 'checking',\n",
              " 738: 'save',\n",
              " 739: 'loan',\n",
              " 740: 'page',\n",
              " 741: 'entered',\n",
              " 742: 'dogging',\n",
              " 743: 'txting',\n",
              " 744: 'lovable',\n",
              " 745: 'wine',\n",
              " 746: 'safe',\n",
              " 747: 'bath',\n",
              " 748: 'orchard',\n",
              " 749: 'kate',\n",
              " 750: 'lover',\n",
              " 751: 'wana',\n",
              " 752: 'hmv',\n",
              " 753: 'somebody',\n",
              " 754: 'return',\n",
              " 755: 'small',\n",
              " 756: 'discount',\n",
              " 757: 'slow',\n",
              " 758: 'mm',\n",
              " 759: 'india',\n",
              " 760: 'hmm',\n",
              " 761: 'asking',\n",
              " 762: 'rent',\n",
              " 763: 'lady',\n",
              " 764: 'door',\n",
              " 765: 'train',\n",
              " 766: 'laugh',\n",
              " 767: 'idea',\n",
              " 768: 'whenever',\n",
              " 769: 'truth',\n",
              " 770: 'heard',\n",
              " 771: 'frm',\n",
              " 772: 'fantasy',\n",
              " 773: 'fact',\n",
              " 774: 'loved',\n",
              " 775: 'slowly',\n",
              " 776: 'police',\n",
              " 777: 'nah',\n",
              " 778: 'callertune',\n",
              " 779: 'copy',\n",
              " 780: 'reward',\n",
              " 781: 'wap',\n",
              " 782: 'england',\n",
              " 783: 'turn',\n",
              " 784: 'catch',\n",
              " 785: 'oops',\n",
              " 786: 'reached',\n",
              " 787: 'joke',\n",
              " 788: 'situation',\n",
              " 789: 'short',\n",
              " 790: 'rply',\n",
              " 791: 'representative',\n",
              " 792: 'gave',\n",
              " 793: 'men',\n",
              " 794: 'del',\n",
              " 795: 'spend',\n",
              " 796: 'bathe',\n",
              " 797: 'bcoz',\n",
              " 798: 'teach',\n",
              " 799: 'road',\n",
              " 800: 'kick',\n",
              " 801: 'admirer',\n",
              " 802: 'deep',\n",
              " 803: 'leaf',\n",
              " 804: 'stupid',\n",
              " 805: 'sim',\n",
              " 806: 'somewhere',\n",
              " 807: 'immediately',\n",
              " 808: 'custcare',\n",
              " 809: 'met',\n",
              " 810: 'ex',\n",
              " 811: 'woke',\n",
              " 812: 'yep',\n",
              " 813: 'voice',\n",
              " 814: 'ldn',\n",
              " 815: 'booked',\n",
              " 816: 'different',\n",
              " 817: 'remove',\n",
              " 818: 'nyt',\n",
              " 819: 'monday',\n",
              " 820: 'water',\n",
              " 821: 'opinion',\n",
              " 822: 'member',\n",
              " 823: 'hoping',\n",
              " 824: 'across',\n",
              " 825: 'warm',\n",
              " 826: 'cheap',\n",
              " 827: 'study',\n",
              " 828: 'ho',\n",
              " 829: 'gap',\n",
              " 830: 'fantastic',\n",
              " 831: 'glad',\n",
              " 832: 'wishing',\n",
              " 833: 'summer',\n",
              " 834: 'gettin',\n",
              " 835: 'understand',\n",
              " 836: 'poor',\n",
              " 837: 'otherwise',\n",
              " 838: 'ntt',\n",
              " 839: 'rd',\n",
              " 840: 'na',\n",
              " 841: 'doctor',\n",
              " 842: 'energy',\n",
              " 843: 'shes',\n",
              " 844: 'write',\n",
              " 845: 'cover',\n",
              " 846: 'doin',\n",
              " 847: 'med',\n",
              " 848: 'empty',\n",
              " 849: 'la',\n",
              " 850: 'cup',\n",
              " 851: 'std',\n",
              " 852: 'seriously',\n",
              " 853: 'suck',\n",
              " 854: 'worried',\n",
              " 855: 'sick',\n",
              " 856: 'decide',\n",
              " 857: 'forever',\n",
              " 858: 'rain',\n",
              " 859: 'bos',\n",
              " 860: 'specially',\n",
              " 861: 'flight',\n",
              " 862: 'ending',\n",
              " 863: 'buying',\n",
              " 864: 'sunshine',\n",
              " 865: 'sony',\n",
              " 866: 'lazy',\n",
              " 867: 'lect',\n",
              " 868: 'completely',\n",
              " 869: 'hmmm',\n",
              " 870: 'staying',\n",
              " 871: 'especially',\n",
              " 872: 'studying',\n",
              " 873: 'trust',\n",
              " 874: 'using',\n",
              " 875: 'deal',\n",
              " 876: 'mrt',\n",
              " 877: 'disturb',\n",
              " 878: 'unless',\n",
              " 879: 'rose',\n",
              " 880: 'sport',\n",
              " 881: 'accept',\n",
              " 882: 'normal',\n",
              " 883: 'rest',\n",
              " 884: 'merry',\n",
              " 885: 'pete',\n",
              " 886: 'access',\n",
              " 887: 'round',\n",
              " 888: 'urself',\n",
              " 889: 'bluetooth',\n",
              " 890: 'reference',\n",
              " 891: 'brings',\n",
              " 892: 'mistake',\n",
              " 893: 'result',\n",
              " 894: 'style',\n",
              " 895: 'meh',\n",
              " 896: 'near',\n",
              " 897: 'silent',\n",
              " 898: 'hotel',\n",
              " 899: 'noon',\n",
              " 900: 'forwarded',\n",
              " 901: 'starting',\n",
              " 902: 'xy',\n",
              " 903: 'bold',\n",
              " 904: 'seems',\n",
              " 905: 'add',\n",
              " 906: 'wwwgetzedcouk',\n",
              " 907: 'bid',\n",
              " 908: 'charity',\n",
              " 909: 'fall',\n",
              " 910: 'tampa',\n",
              " 911: 'user',\n",
              " 912: 'sale',\n",
              " 913: 'gay',\n",
              " 914: 'hiya',\n",
              " 915: 'convey',\n",
              " 916: 'digital',\n",
              " 917: 'nobody',\n",
              " 918: 'mode',\n",
              " 919: 'wondering',\n",
              " 920: 'others',\n",
              " 921: 'bb',\n",
              " 922: 'frens',\n",
              " 923: 'tht',\n",
              " 924: 'reaching',\n",
              " 925: 'didnt',\n",
              " 926: 'excuse',\n",
              " 927: 'thinkin',\n",
              " 928: 'sitting',\n",
              " 929: 'flag',\n",
              " 930: 'colleague',\n",
              " 931: 'entitled',\n",
              " 932: 'anymore',\n",
              " 933: 'hl',\n",
              " 934: 'sunday',\n",
              " 935: 'mark',\n",
              " 936: 'pizza',\n",
              " 937: 'quick',\n",
              " 938: 'replying',\n",
              " 939: 'roommate',\n",
              " 940: 'letter',\n",
              " 941: 'nigeria',\n",
              " 942: 'ice',\n",
              " 943: 'cinema',\n",
              " 944: 'stand',\n",
              " 945: 'spent',\n",
              " 946: 'trouble',\n",
              " 947: 'planning',\n",
              " 948: 'ave',\n",
              " 949: 'apartment',\n",
              " 950: 'inc',\n",
              " 951: 'paying',\n",
              " 952: 'bak',\n",
              " 953: 'dvd',\n",
              " 954: 'pray',\n",
              " 955: 'sometimes',\n",
              " 956: 'goto',\n",
              " 957: 'freephone',\n",
              " 958: 'however',\n",
              " 959: 'dead',\n",
              " 960: 'slept',\n",
              " 961: 'gt',\n",
              " 962: 'file',\n",
              " 963: 'sign',\n",
              " 964: 'street',\n",
              " 965: 'youfind',\n",
              " 966: 'rreveal',\n",
              " 967: 'specialcall',\n",
              " 968: 'goodnight',\n",
              " 969: 'lemme',\n",
              " 970: 'power',\n",
              " 971: 'record',\n",
              " 972: 'woman',\n",
              " 973: 'fixed',\n",
              " 974: 'wiv',\n",
              " 975: 'weed',\n",
              " 976: 'hgsuitelands',\n",
              " 977: 'rowwjhl',\n",
              " 978: 'mei',\n",
              " 979: 'picture',\n",
              " 980: 'facebook',\n",
              " 981: 'none',\n",
              " 982: 'yahoo',\n",
              " 983: 'aha',\n",
              " 984: 'funny',\n",
              " 985: 'giving',\n",
              " 986: 'din',\n",
              " 987: 'mp',\n",
              " 988: 'fat',\n",
              " 989: 'finger',\n",
              " 990: 'self',\n",
              " 991: 'workin',\n",
              " 992: 'daddy',\n",
              " 993: 'present',\n",
              " 994: 'indian',\n",
              " 995: 'euro',\n",
              " 996: 'future',\n",
              " 997: 'longer',\n",
              " 998: 'pc',\n",
              " 999: 'tuesday',\n",
              " 1000: 'student',\n",
              " ...}"
            ]
          },
          "metadata": {},
          "execution_count": 156
        }
      ]
    },
    {
      "cell_type": "code",
      "source": [
        "# находим длину наибольшей последовательности\n",
        "max_length_sequence = max([len(i) for i in text_to_sequence])\n",
        "padded_sms_sequence = pad_sequences(text_to_sequence, maxlen=max_length_sequence, \n",
        "                                    padding = \"pre\") \n",
        "padded_sms_sequence"
      ],
      "metadata": {
        "colab": {
          "base_uri": "https://localhost:8080/"
        },
        "id": "8ra5uTHqvMee",
        "outputId": "546635bf-dd19-4d65-b7dd-e15a9711c6a7"
      },
      "execution_count": 157,
      "outputs": [
        {
          "output_type": "execute_result",
          "data": {
            "text/plain": [
              "array([[   0,    0,    0, ...,   10, 3592,   69],\n",
              "       [   0,    0,    0, ..., 1178,  330, 1545],\n",
              "       [   0,    0,    0, ..., 2425,  264, 2426],\n",
              "       ...,\n",
              "       [   0,    0,    0, ..., 1028, 7833, 3589],\n",
              "       [   0,    0,    0, ...,  792,   66,    6],\n",
              "       [   0,    0,    0, ..., 2158,  367,  146]], dtype=int32)"
            ]
          },
          "metadata": {},
          "execution_count": 157
        }
      ]
    },
    {
      "cell_type": "code",
      "source": [
        "from sklearn.model_selection import train_test_split\n",
        "x_train, x_test, y_train, y_test = train_test_split(padded_sms_sequence, y,test_size=0.25,random_state=0)"
      ],
      "metadata": {
        "id": "ctDseJOFyLV8"
      },
      "execution_count": 158,
      "outputs": []
    },
    {
      "cell_type": "markdown",
      "source": [
        "## Модели"
      ],
      "metadata": {
        "id": "llI1DPhEXEHx"
      }
    },
    {
      "cell_type": "markdown",
      "source": [
        "### Многослойный Перцептрон"
      ],
      "metadata": {
        "id": "LfJUXE_rcBQM"
      }
    },
    {
      "cell_type": "markdown",
      "source": [
        "Дропоуты убрал, потому что с ними плохо работала модель"
      ],
      "metadata": {
        "id": "ls26I5RlnRaI"
      }
    },
    {
      "cell_type": "code",
      "source": [
        "model_1 = keras.models.Sequential()\n",
        "model_1.add(keras.layers.core.Dense(512, input_dim=79, activation='relu'))\n",
        "model_1.add(keras.layers.core.Dense(256, activation='relu'))\n",
        "model_1.add(keras.layers.core.Dense(128, activation='relu'))\n",
        "model_1.add(keras.layers.core.Dense(64, activation='relu'))\n",
        "model_1.add(keras.layers.core.Dense(1,   activation='sigmoid'))\n",
        "\n",
        "model_1.compile(loss=\"binary_crossentropy\", optimizer=\"adam\", metrics=[\"accuracy\"])"
      ],
      "metadata": {
        "id": "poovvJE2WSCP"
      },
      "execution_count": 175,
      "outputs": []
    },
    {
      "cell_type": "code",
      "source": [
        "model_1.summary()"
      ],
      "metadata": {
        "colab": {
          "base_uri": "https://localhost:8080/"
        },
        "id": "LPK1Sfw-vs-A",
        "outputId": "be78638a-53ec-44f3-8578-fda76a900307"
      },
      "execution_count": 176,
      "outputs": [
        {
          "output_type": "stream",
          "name": "stdout",
          "text": [
            "Model: \"sequential_14\"\n",
            "_________________________________________________________________\n",
            " Layer (type)                Output Shape              Param #   \n",
            "=================================================================\n",
            " dense_44 (Dense)            (None, 512)               40960     \n",
            "                                                                 \n",
            " dense_45 (Dense)            (None, 256)               131328    \n",
            "                                                                 \n",
            " dense_46 (Dense)            (None, 128)               32896     \n",
            "                                                                 \n",
            " dense_47 (Dense)            (None, 64)                8256      \n",
            "                                                                 \n",
            " dense_48 (Dense)            (None, 1)                 65        \n",
            "                                                                 \n",
            "=================================================================\n",
            "Total params: 213,505\n",
            "Trainable params: 213,505\n",
            "Non-trainable params: 0\n",
            "_________________________________________________________________\n"
          ]
        }
      ]
    },
    {
      "cell_type": "code",
      "source": [
        "history = model_1.fit(x_train, y_train, validation_data=(x_test, y_test), epochs=20, batch_size=32)"
      ],
      "metadata": {
        "colab": {
          "base_uri": "https://localhost:8080/"
        },
        "id": "y1wJnRWIyQEL",
        "outputId": "61935b3f-0bb5-4c34-c8a4-5fceb49ce86e"
      },
      "execution_count": 177,
      "outputs": [
        {
          "output_type": "stream",
          "name": "stdout",
          "text": [
            "Epoch 1/20\n",
            "131/131 [==============================] - 2s 8ms/step - loss: 5.5739 - accuracy: 0.8062 - val_loss: 1.5464 - val_accuracy: 0.8313\n",
            "Epoch 2/20\n",
            "131/131 [==============================] - 1s 6ms/step - loss: 1.0490 - accuracy: 0.8440 - val_loss: 0.7889 - val_accuracy: 0.8478\n",
            "Epoch 3/20\n",
            "131/131 [==============================] - 1s 7ms/step - loss: 0.5569 - accuracy: 0.8655 - val_loss: 0.7167 - val_accuracy: 0.8227\n",
            "Epoch 4/20\n",
            "131/131 [==============================] - 1s 7ms/step - loss: 0.5135 - accuracy: 0.8696 - val_loss: 0.6371 - val_accuracy: 0.8464\n",
            "Epoch 5/20\n",
            "131/131 [==============================] - 1s 6ms/step - loss: 0.4472 - accuracy: 0.8796 - val_loss: 0.6220 - val_accuracy: 0.8076\n",
            "Epoch 6/20\n",
            "131/131 [==============================] - 1s 6ms/step - loss: 0.3862 - accuracy: 0.8847 - val_loss: 0.5559 - val_accuracy: 0.8579\n",
            "Epoch 7/20\n",
            "131/131 [==============================] - 1s 7ms/step - loss: 0.3940 - accuracy: 0.8765 - val_loss: 0.6229 - val_accuracy: 0.8593\n",
            "Epoch 8/20\n",
            "131/131 [==============================] - 1s 6ms/step - loss: 0.3577 - accuracy: 0.8856 - val_loss: 0.5119 - val_accuracy: 0.8593\n",
            "Epoch 9/20\n",
            "131/131 [==============================] - 1s 7ms/step - loss: 0.3952 - accuracy: 0.8892 - val_loss: 0.6061 - val_accuracy: 0.8579\n",
            "Epoch 10/20\n",
            "131/131 [==============================] - 1s 6ms/step - loss: 0.3441 - accuracy: 0.8973 - val_loss: 0.6261 - val_accuracy: 0.8679\n",
            "Epoch 11/20\n",
            "131/131 [==============================] - 1s 6ms/step - loss: 0.3249 - accuracy: 0.8983 - val_loss: 0.6537 - val_accuracy: 0.8600\n",
            "Epoch 12/20\n",
            "131/131 [==============================] - 1s 6ms/step - loss: 0.3178 - accuracy: 0.8921 - val_loss: 0.5267 - val_accuracy: 0.8586\n",
            "Epoch 13/20\n",
            "131/131 [==============================] - 1s 6ms/step - loss: 0.2898 - accuracy: 0.8966 - val_loss: 0.4841 - val_accuracy: 0.8672\n",
            "Epoch 14/20\n",
            "131/131 [==============================] - 1s 6ms/step - loss: 0.3554 - accuracy: 0.8947 - val_loss: 0.5585 - val_accuracy: 0.8406\n",
            "Epoch 15/20\n",
            "131/131 [==============================] - 1s 6ms/step - loss: 0.4073 - accuracy: 0.8777 - val_loss: 0.8439 - val_accuracy: 0.8607\n",
            "Epoch 16/20\n",
            "131/131 [==============================] - 1s 6ms/step - loss: 0.3355 - accuracy: 0.8911 - val_loss: 0.5847 - val_accuracy: 0.8622\n",
            "Epoch 17/20\n",
            "131/131 [==============================] - 1s 6ms/step - loss: 0.2696 - accuracy: 0.9081 - val_loss: 0.4912 - val_accuracy: 0.8485\n",
            "Epoch 18/20\n",
            "131/131 [==============================] - 1s 7ms/step - loss: 0.2458 - accuracy: 0.9115 - val_loss: 0.5629 - val_accuracy: 0.8650\n",
            "Epoch 19/20\n",
            "131/131 [==============================] - 1s 6ms/step - loss: 0.2330 - accuracy: 0.9206 - val_loss: 0.5426 - val_accuracy: 0.8571\n",
            "Epoch 20/20\n",
            "131/131 [==============================] - 1s 6ms/step - loss: 0.2332 - accuracy: 0.9210 - val_loss: 0.5694 - val_accuracy: 0.8650\n"
          ]
        }
      ]
    },
    {
      "cell_type": "code",
      "source": [
        "print(model_1.evaluate(x_test,y_test, verbose=1))"
      ],
      "metadata": {
        "colab": {
          "base_uri": "https://localhost:8080/"
        },
        "id": "sM6Sx7ATR9g9",
        "outputId": "e93d06f3-3784-4f97-bfb4-570e3bc3b882"
      },
      "execution_count": 178,
      "outputs": [
        {
          "output_type": "stream",
          "name": "stdout",
          "text": [
            "44/44 [==============================] - 0s 2ms/step - loss: 0.5694 - accuracy: 0.8650\n",
            "[0.5694186091423035, 0.8650394678115845]\n"
          ]
        }
      ]
    },
    {
      "cell_type": "code",
      "source": [
        "y_predicted = model_1.predict(x_test)\n",
        "y_predicted_labels = [np.round(i) for i in y_predicted]"
      ],
      "metadata": {
        "id": "5nPCOO7ZRFYh"
      },
      "execution_count": 179,
      "outputs": []
    },
    {
      "cell_type": "code",
      "source": [
        "import tensorflow as tf\n",
        "sns.heatmap(tf.math.confusion_matrix(labels=y_test,predictions=y_predicted_labels), annot=True, fmt='d',cmap='YlGnBu')\n",
        "plt.xlabel('Predicted')\n",
        "plt.ylabel('Truth')\n",
        "plt.show()"
      ],
      "metadata": {
        "colab": {
          "base_uri": "https://localhost:8080/",
          "height": 279
        },
        "id": "zZo_Igq4Riiu",
        "outputId": "c6d424bb-ec46-4789-980a-4ce037d9a82a"
      },
      "execution_count": 180,
      "outputs": [
        {
          "output_type": "display_data",
          "data": {
            "image/png": "[encoded data removed]",
            "text/plain": [
              "<Figure size 432x288 with 2 Axes>"
            ]
          },
          "metadata": {
            "needs_background": "light"
          }
        }
      ]
    },
    {
      "cell_type": "code",
      "source": [
        "def plot_model(history):\n",
        "  acc = history.history['accuracy']\n",
        "  val_acc = history.history['val_accuracy']\n",
        "  loss = history.history['loss']\n",
        "  val_loss = history.history['val_loss']\n",
        "  epochs = range(1, len(acc) + 1)\n",
        "\n",
        "  plt.figure(figsize=(15,5))\n",
        "  plt.subplot(1, 2, 1)\n",
        "  plt.title('Training and validation accuracy')\n",
        "  plt.plot(epochs, acc, 'red', label='Training acc')\n",
        "  plt.plot(epochs, val_acc, 'blue', label='Validation acc')\n",
        "  plt.legend()\n",
        "\n",
        "  plt.subplot(1, 2, 2)\n",
        "  plt.title('Training and validation loss')\n",
        "  plt.plot(epochs, loss, 'red', label='Training loss')\n",
        "  plt.plot(epochs, val_loss, 'blue', label='Validation loss')\n",
        "\n",
        "  plt.legend()\n",
        "\n",
        "  plt.show()"
      ],
      "metadata": {
        "id": "Z1HHEx_KbakC"
      },
      "execution_count": 181,
      "outputs": []
    },
    {
      "cell_type": "code",
      "source": [
        "plot_model(history)"
      ],
      "metadata": {
        "colab": {
          "base_uri": "https://localhost:8080/",
          "height": 336
        },
        "id": "VGG1kvVObSYk",
        "outputId": "28f08063-4dfd-4953-f284-8f0c3f9150df"
      },
      "execution_count": 182,
      "outputs": [
        {
          "output_type": "display_data",
          "data": {
            "image/png": "[encoded data removed]",
            "text/plain": [
              "<Figure size 1080x360 with 2 Axes>"
            ]
          },
          "metadata": {
            "needs_background": "light"
          }
        }
      ]
    },
    {
      "cell_type": "markdown",
      "source": [
        "В целом результат получился неплохой. Возможно небольшое переобучение, потому что график валидации вырос очень слабо в сравнение с тренировочными результатами."
      ],
      "metadata": {
        "id": "hWkhQivEiM9l"
      }
    },
    {
      "cell_type": "markdown",
      "source": [
        "### Bi-directional LSTM"
      ],
      "metadata": {
        "id": "nOtb9OxicKuz"
      }
    },
    {
      "cell_type": "code",
      "source": [
        "model_2 = keras.Sequential()\n",
        "model_2.add(keras.layers.Embedding(9558, 30, input_length=79))\n",
        "model_2.add(keras.layers.Bidirectional(keras.layers.LSTM(units=128)))\n",
        "model_2.add(keras.layers.Dense(1,activation='sigmoid'))"
      ],
      "metadata": {
        "id": "oqP38skycOtm"
      },
      "execution_count": 167,
      "outputs": []
    },
    {
      "cell_type": "code",
      "source": [
        "model_2.compile(optimizer='adam',loss='binary_crossentropy',metrics=['accuracy'])\n",
        "model_2.summary()"
      ],
      "metadata": {
        "colab": {
          "base_uri": "https://localhost:8080/"
        },
        "id": "7o3juyFQSuCo",
        "outputId": "4d2835af-9269-4a3b-d11e-7f8d83b77846"
      },
      "execution_count": 168,
      "outputs": [
        {
          "output_type": "stream",
          "name": "stdout",
          "text": [
            "Model: \"sequential_12\"\n",
            "_________________________________________________________________\n",
            " Layer (type)                Output Shape              Param #   \n",
            "=================================================================\n",
            " embedding_4 (Embedding)     (None, 79, 30)            286740    \n",
            "                                                                 \n",
            " bidirectional_4 (Bidirectio  (None, 256)              162816    \n",
            " nal)                                                            \n",
            "                                                                 \n",
            " dense_39 (Dense)            (None, 1)                 257       \n",
            "                                                                 \n",
            "=================================================================\n",
            "Total params: 449,813\n",
            "Trainable params: 449,813\n",
            "Non-trainable params: 0\n",
            "_________________________________________________________________\n"
          ]
        }
      ]
    },
    {
      "cell_type": "code",
      "source": [
        "history_2 = model_2.fit(x_train, y_train, epochs=5, batch_size=32, validation_split=0.3,verbose=1)"
      ],
      "metadata": {
        "colab": {
          "base_uri": "https://localhost:8080/"
        },
        "id": "neCL-2mUSLnK",
        "outputId": "d7927fa9-5aa1-47fe-8e60-e1f2bd97e40f"
      },
      "execution_count": 169,
      "outputs": [
        {
          "output_type": "stream",
          "name": "stdout",
          "text": [
            "Epoch 1/5\n",
            "92/92 [==============================] - 75s 183ms/step - loss: 0.4158 - accuracy: 0.8697 - val_loss: 0.3506 - val_accuracy: 0.8708\n",
            "Epoch 2/5\n",
            "92/92 [==============================] - 16s 170ms/step - loss: 0.1578 - accuracy: 0.9450 - val_loss: 0.0692 - val_accuracy: 0.9825\n",
            "Epoch 3/5\n",
            "92/92 [==============================] - 16s 169ms/step - loss: 0.0501 - accuracy: 0.9870 - val_loss: 0.0482 - val_accuracy: 0.9872\n",
            "Epoch 4/5\n",
            "92/92 [==============================] - 16s 170ms/step - loss: 0.0239 - accuracy: 0.9932 - val_loss: 0.0485 - val_accuracy: 0.9848\n",
            "Epoch 5/5\n",
            "92/92 [==============================] - 16s 170ms/step - loss: 0.0123 - accuracy: 0.9969 - val_loss: 0.0476 - val_accuracy: 0.9848\n"
          ]
        }
      ]
    },
    {
      "cell_type": "code",
      "source": [
        "print(model_2.evaluate(x_test,y_test, verbose=1))"
      ],
      "metadata": {
        "colab": {
          "base_uri": "https://localhost:8080/"
        },
        "id": "U6QGqlgISRIY",
        "outputId": "4fae482c-accc-4a29-d3ac-b2dbed932e92"
      },
      "execution_count": 170,
      "outputs": [
        {
          "output_type": "stream",
          "name": "stdout",
          "text": [
            "44/44 [==============================] - 2s 36ms/step - loss: 0.0538 - accuracy: 0.9842\n",
            "[0.05379476398229599, 0.9842067360877991]\n"
          ]
        }
      ]
    },
    {
      "cell_type": "code",
      "source": [
        "y_predicted = model_2.predict(x_test)\n",
        "y_predicted_labels = [np.round(i) for i in y_predicted]"
      ],
      "metadata": {
        "id": "9O7IJFhYSSwN"
      },
      "execution_count": 171,
      "outputs": []
    },
    {
      "cell_type": "code",
      "source": [
        "sns.heatmap(tf.math.confusion_matrix(labels=y_test,predictions=y_predicted_labels), annot=True, fmt='d',cmap='YlGnBu')\n",
        "plt.xlabel('Predicted')\n",
        "plt.ylabel('Truth')\n",
        "plt.show()"
      ],
      "metadata": {
        "colab": {
          "base_uri": "https://localhost:8080/",
          "height": 279
        },
        "id": "AqYtulsBSUC1",
        "outputId": "c093ef36-ecb4-438b-b4b5-763abe9851ff"
      },
      "execution_count": 172,
      "outputs": [
        {
          "output_type": "display_data",
          "data": {
            "image/png": "[encoded data removed]",
            "text/plain": [
              "<Figure size 432x288 with 2 Axes>"
            ]
          },
          "metadata": {
            "needs_background": "light"
          }
        }
      ]
    },
    {
      "cell_type": "code",
      "source": [
        "plot_model(history_2)"
      ],
      "metadata": {
        "colab": {
          "base_uri": "https://localhost:8080/",
          "height": 336
        },
        "id": "qbzgN7jzdNsU",
        "outputId": "ba129a8f-1362-435a-db6c-f6e0c5e5742b"
      },
      "execution_count": 173,
      "outputs": [
        {
          "output_type": "display_data",
          "data": {
            "image/png": "[encoded data removed]",
            "text/plain": [
              "<Figure size 1080x360 with 2 Axes>"
            ]
          },
          "metadata": {
            "needs_background": "light"
          }
        }
      ]
    },
    {
      "cell_type": "markdown",
      "source": [
        "Результат получился хорошим 98%. Также на хитмапе видно, что ошибок обоих типов достаточно мало."
      ],
      "metadata": {
        "id": "hpmaANiehmyX"
      }
    }
  ]
}